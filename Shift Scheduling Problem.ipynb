{
 "cells": [
  {
   "cell_type": "markdown",
   "id": "2c13f31c",
   "metadata": {},
   "source": [
    "# Resources\n",
    "\n",
    "### [Employee Scheduling](https://developers.google.com/optimization/scheduling/employee_scheduling#import_the_libraries)\n",
    "### [or-tools](https://github.com/google/or-tools/blob/main/examples/python/shift_scheduling_sat.py)\n",
    "### [CP-SAT Solver](https://developers.google.com/optimization/cp/cp_solver)"
   ]
  },
  {
   "cell_type": "markdown",
   "id": "265df127",
   "metadata": {},
   "source": [
    "## Employee Scheduling"
   ]
  },
  {
   "cell_type": "markdown",
   "id": "06ec12e6",
   "metadata": {},
   "source": [
    "### A nurse scheduling problem"
   ]
  },
  {
   "cell_type": "markdown",
   "id": "d989e07c",
   "metadata": {},
   "source": [
    "In this example, a hospital supervisor needs to create a schedule for four nurses over a three-day period, subject to the following conditions:\n",
    "\n",
    "- Each day is divided into three 8-hour shifts.\n",
    "- Every day, each shift is assigned to a single nurse, and no nurse works more than one shift.\n",
    "- Each nurse is assigned to at least two shifts during the three-day period.\n",
    "\n",
    "The following sections present a solution to the nurse scheduling problem."
   ]
  },
  {
   "cell_type": "markdown",
   "id": "fcf3522d",
   "metadata": {},
   "source": [
    "## Import the libraries\n",
    "- The following code imports the required library."
   ]
  },
  {
   "cell_type": "code",
   "execution_count": 3,
   "id": "07d0570e",
   "metadata": {},
   "outputs": [],
   "source": [
    "from ortools.sat.python import cp_model"
   ]
  },
  {
   "cell_type": "markdown",
   "id": "79c09361",
   "metadata": {},
   "source": [
    "## Data for the example\n",
    "- The following code creates the data for the example."
   ]
  },
  {
   "cell_type": "code",
   "execution_count": 4,
   "id": "b8a9f941",
   "metadata": {},
   "outputs": [],
   "source": [
    "num_nurses = 4\n",
    "num_shifts = 3\n",
    "num_days = 3\n",
    "all_nurses = range(num_nurses)\n",
    "all_shifts = range(num_shifts)\n",
    "all_days = range(num_days)"
   ]
  },
  {
   "cell_type": "markdown",
   "id": "6a2f13da",
   "metadata": {},
   "source": [
    "## Create the model\n",
    "- The following code creates the model."
   ]
  },
  {
   "cell_type": "code",
   "execution_count": 5,
   "id": "62cf9455",
   "metadata": {},
   "outputs": [],
   "source": [
    "model = cp_model.CpModel()"
   ]
  },
  {
   "cell_type": "markdown",
   "id": "04a3eb54",
   "metadata": {},
   "source": [
    "## Create the variables\n",
    "- The following code creates an array of variables."
   ]
  },
  {
   "cell_type": "code",
   "execution_count": 6,
   "id": "221c19c1",
   "metadata": {},
   "outputs": [],
   "source": [
    "shifts = {}\n",
    "for n in all_nurses:\n",
    "    for d in all_days:\n",
    "        for s in all_shifts:\n",
    "            shifts[(n, d, s)] = model.NewBoolVar(f\"shift_n{n}_d{d}_s{s}\")"
   ]
  },
  {
   "cell_type": "markdown",
   "id": "58d85938",
   "metadata": {},
   "source": [
    "The array defines assignments for shifts to nurses as follows: shifts[(n, d, s)] equals 1 if shift s is assigned to nurse n on day d, and 0 otherwise."
   ]
  },
  {
   "cell_type": "markdown",
   "id": "4b73b37c",
   "metadata": {},
   "source": [
    "## Assign nurses to shifts\n",
    "Next, we show how to assign nurses to shifts subject to the following constraints:\n",
    "\n",
    "- Each shift is assigned to a single nurse per day.\n",
    "- Each nurse works at most one shift per day.\n",
    "\n",
    "Here's the code that creates the first condition."
   ]
  },
  {
   "cell_type": "code",
   "execution_count": 7,
   "id": "4464adda",
   "metadata": {},
   "outputs": [],
   "source": [
    "for d in all_days:\n",
    "    for s in all_shifts:\n",
    "        model.AddExactlyOne(shifts[(n, d, s)] for n in all_nurses)"
   ]
  },
  {
   "cell_type": "markdown",
   "id": "94fb971c",
   "metadata": {},
   "source": [
    "The last line says that for each shift, the sum of the nurses assigned to that shift is 1.\n",
    "\n",
    "Next, here's the code that requires that each nurse works at most one shift per day."
   ]
  },
  {
   "cell_type": "code",
   "execution_count": 8,
   "id": "a4ccbada",
   "metadata": {},
   "outputs": [],
   "source": [
    "for n in all_nurses:\n",
    "    for d in all_days:\n",
    "        model.AddAtMostOne(shifts[(n, d, s)] for s in all_shifts)"
   ]
  },
  {
   "cell_type": "markdown",
   "id": "802fd4ef",
   "metadata": {},
   "source": [
    "For each nurse, the sum of shifts assigned to that nurse is at most 1 (\"at most\" because a nurse might have the day off)."
   ]
  },
  {
   "cell_type": "markdown",
   "id": "37103fb2",
   "metadata": {},
   "source": [
    "## Assign shifts evenly\n",
    "\n",
    "Next, we show how to assign shifts to nurses as evenly as possible. Since there are nine shifts over the three-day period, we can assign two shifts to each of the four nurses. After that there will be one shift left over, which can be assigned to any nurse.\n",
    "\n",
    "The following code ensures that each nurse works at least two shifts in the three-day period."
   ]
  },
  {
   "cell_type": "code",
   "execution_count": 9,
   "id": "38f42c3f",
   "metadata": {},
   "outputs": [],
   "source": [
    "# Try to distribute the shifts evenly, so that each nurse works\n",
    "# min_shifts_per_nurse shifts. If this is not possible, because the total\n",
    "# number of shifts is not divisible by the number of nurses, some nurses will\n",
    "# be assigned one more shift.\n",
    "min_shifts_per_nurse = (num_shifts * num_days) // num_nurses\n",
    "if num_shifts * num_days % num_nurses == 0:\n",
    "    max_shifts_per_nurse = min_shifts_per_nurse\n",
    "else:\n",
    "    max_shifts_per_nurse = min_shifts_per_nurse + 1\n",
    "for n in all_nurses:\n",
    "    shifts_worked = []\n",
    "    for d in all_days:\n",
    "        for s in all_shifts:\n",
    "            shifts_worked.append(shifts[(n, d, s)])\n",
    "    model.Add(min_shifts_per_nurse <= sum(shifts_worked))\n",
    "    model.Add(sum(shifts_worked) <= max_shifts_per_nurse)"
   ]
  },
  {
   "cell_type": "markdown",
   "id": "8939d959",
   "metadata": {},
   "source": [
    "Since there are num_shifts * num_days total shifts in the schedule period, you can assign at least (num_shifts * num_days) // num_nurses\n",
    "\n",
    "shifts to each nurse, but some shifts may be left over. (Here // is the Python integer division operator, which returns the floor of the usual quotient.)\n",
    "\n",
    "For the given values of num_nurses = 4, num_shifts = 3, and num_days = 3, the expression min_shifts_per_nurse has the value (3 * 3 // 4) = 2, so you can assign at least two shifts to each nurse. This is guaranteed by the constraint model.Add(min_shifts_per_nurse <= sum(num_shifts_worked))\n",
    "\n",
    "Since there are nine total shifts over the three-day period, there is one remaining shift after assigning two shifts to each nurse. The extra shift can be assigned to any nurse.\n",
    "\n",
    "The final line model.Add(sum(num_shifts_worked) <= max_shifts_per_nurse) ensures that no nurse is assigned more than one extra shift.\n",
    "\n",
    "The constraint isn't necessary in this case, because there's only one extra shift. But for different parameter values, there could be several extra shifts, in which case the constraint is necessary."
   ]
  },
  {
   "cell_type": "markdown",
   "id": "c6a060ee",
   "metadata": {},
   "source": [
    "## Update solver parameters\n",
    "In a non-optimization model, you can enable the search for all solutions."
   ]
  },
  {
   "cell_type": "code",
   "execution_count": 10,
   "id": "10dab07a",
   "metadata": {},
   "outputs": [],
   "source": [
    "solver = cp_model.CpSolver()\n",
    "solver.parameters.linearization_level = 0\n",
    "# Enumerate all solutions.\n",
    "solver.parameters.enumerate_all_solutions = True"
   ]
  },
  {
   "cell_type": "markdown",
   "id": "516bbcd5",
   "metadata": {},
   "source": [
    "## Register a Solutions Callback"
   ]
  },
  {
   "cell_type": "markdown",
   "id": "6cab7219",
   "metadata": {},
   "source": [
    "- We need to register a callback on the solver that will be called at each solution."
   ]
  },
  {
   "cell_type": "code",
   "execution_count": 12,
   "id": "90aa5ecd",
   "metadata": {},
   "outputs": [],
   "source": [
    "class NursesPartialSolutionPrinter(cp_model.CpSolverSolutionCallback):\n",
    "    \"\"\"Print intermediate solutions.\"\"\"\n",
    "\n",
    "    def __init__(self, shifts, num_nurses, num_days, num_shifts, limit):\n",
    "        cp_model.CpSolverSolutionCallback.__init__(self)\n",
    "        self._shifts = shifts\n",
    "        self._num_nurses = num_nurses\n",
    "        self._num_days = num_days\n",
    "        self._num_shifts = num_shifts\n",
    "        self._solution_count = 0\n",
    "        self._solution_limit = limit\n",
    "\n",
    "    def on_solution_callback(self):\n",
    "        self._solution_count += 1\n",
    "        print(f\"Solution {self._solution_count}\")\n",
    "        for d in range(self._num_days):\n",
    "            print(f\"Day {d}\")\n",
    "            for n in range(self._num_nurses):\n",
    "                is_working = False\n",
    "                for s in range(self._num_shifts):\n",
    "                    if self.Value(self._shifts[(n, d, s)]):\n",
    "                        is_working = True\n",
    "                        print(f\"  Nurse {n} works shift {s}\")\n",
    "                if not is_working:\n",
    "                    print(f\"  Nurse {n} does not work\")\n",
    "        if self._solution_count >= self._solution_limit:\n",
    "            print(f\"Stop search after {self._solution_limit} solutions\")\n",
    "            self.StopSearch()\n",
    "\n",
    "    def solution_count(self):\n",
    "        return self._solution_count\n",
    "\n",
    "# Display the first five solutions.\n",
    "solution_limit = 5\n",
    "solution_printer = NursesPartialSolutionPrinter(\n",
    "    shifts, num_nurses, num_days, num_shifts, solution_limit\n",
    ")"
   ]
  },
  {
   "cell_type": "markdown",
   "id": "8c12bcb5",
   "metadata": {},
   "source": [
    "## Invoke the solver\n",
    "\n",
    "- The following code calls the solver and displays the first five solutions."
   ]
  },
  {
   "cell_type": "code",
   "execution_count": 13,
   "id": "c654e9ba",
   "metadata": {},
   "outputs": [
    {
     "name": "stdout",
     "output_type": "stream",
     "text": [
      "Solution 1\n",
      "Day 0\n",
      "  Nurse 0 does not work\n",
      "  Nurse 1 works shift 0\n",
      "  Nurse 2 works shift 1\n",
      "  Nurse 3 works shift 2\n",
      "Day 1\n",
      "  Nurse 0 works shift 2\n",
      "  Nurse 1 does not work\n",
      "  Nurse 2 works shift 1\n",
      "  Nurse 3 works shift 0\n",
      "Day 2\n",
      "  Nurse 0 works shift 2\n",
      "  Nurse 1 works shift 1\n",
      "  Nurse 2 works shift 0\n",
      "  Nurse 3 does not work\n",
      "Solution 2\n",
      "Day 0\n",
      "  Nurse 0 works shift 0\n",
      "  Nurse 1 does not work\n",
      "  Nurse 2 works shift 1\n",
      "  Nurse 3 works shift 2\n",
      "Day 1\n",
      "  Nurse 0 does not work\n",
      "  Nurse 1 works shift 2\n",
      "  Nurse 2 works shift 1\n",
      "  Nurse 3 works shift 0\n",
      "Day 2\n",
      "  Nurse 0 works shift 2\n",
      "  Nurse 1 works shift 1\n",
      "  Nurse 2 works shift 0\n",
      "  Nurse 3 does not work\n",
      "Solution 3\n",
      "Day 0\n",
      "  Nurse 0 works shift 0\n",
      "  Nurse 1 does not work\n",
      "  Nurse 2 works shift 1\n",
      "  Nurse 3 works shift 2\n",
      "Day 1\n",
      "  Nurse 0 works shift 1\n",
      "  Nurse 1 works shift 2\n",
      "  Nurse 2 does not work\n",
      "  Nurse 3 works shift 0\n",
      "Day 2\n",
      "  Nurse 0 works shift 2\n",
      "  Nurse 1 works shift 1\n",
      "  Nurse 2 works shift 0\n",
      "  Nurse 3 does not work\n",
      "Solution 4\n",
      "Day 0\n",
      "  Nurse 0 works shift 0\n",
      "  Nurse 1 does not work\n",
      "  Nurse 2 works shift 1\n",
      "  Nurse 3 works shift 2\n",
      "Day 1\n",
      "  Nurse 0 works shift 2\n",
      "  Nurse 1 works shift 1\n",
      "  Nurse 2 does not work\n",
      "  Nurse 3 works shift 0\n",
      "Day 2\n",
      "  Nurse 0 works shift 2\n",
      "  Nurse 1 works shift 1\n",
      "  Nurse 2 works shift 0\n",
      "  Nurse 3 does not work\n",
      "Solution 5\n",
      "Day 0\n",
      "  Nurse 0 does not work\n",
      "  Nurse 1 works shift 0\n",
      "  Nurse 2 works shift 1\n",
      "  Nurse 3 works shift 2\n",
      "Day 1\n",
      "  Nurse 0 works shift 2\n",
      "  Nurse 1 works shift 1\n",
      "  Nurse 2 does not work\n",
      "  Nurse 3 works shift 0\n",
      "Day 2\n",
      "  Nurse 0 works shift 2\n",
      "  Nurse 1 works shift 1\n",
      "  Nurse 2 works shift 0\n",
      "  Nurse 3 does not work\n",
      "Stop search after 5 solutions\n"
     ]
    },
    {
     "data": {
      "text/plain": [
       "2"
      ]
     },
     "execution_count": 13,
     "metadata": {},
     "output_type": "execute_result"
    }
   ],
   "source": [
    "solver.Solve(model, solution_printer)"
   ]
  },
  {
   "cell_type": "markdown",
   "id": "6677e509",
   "metadata": {},
   "source": [
    "The total number of solutions is 5184. The following counting argument explains why.\n",
    "\n",
    "First, there are 4 choices for the one nurse who works an extra shift. Having chosen that nurse, there are 3 shifts the nurse can be assigned to on each of the 3 days, so the number of possible ways to assign the nurse with the extra shift is 4 · 33 = 108. After assigning this nurse, there are two remaining unassigned shifts on each day.\n",
    "\n",
    "Of the remaining three nurses, one works days 0 and 1, one works days 0 and 2, and one works days 1 and 2. There are 3! = 6 ways to assign the nurses to these days, as shown in the diagram below. (The three nurses are labeled A, B, and C, and we have not yet assigned them to shifts.)"
   ]
  },
  {
   "cell_type": "code",
   "execution_count": null,
   "id": "1d36930f",
   "metadata": {},
   "outputs": [],
   "source": [
    "Day 0    Day 1    Day 2\n",
    " A B      A C      B C\n",
    " A B      B C      A C\n",
    " A C      A B      B C\n",
    " A C      B C      A B\n",
    " B C      A B      A C\n",
    " B C      A C      A B"
   ]
  },
  {
   "cell_type": "markdown",
   "id": "be90e0c1",
   "metadata": {},
   "source": [
    "For each row in the above diagram, there are 23 = 8 possible ways to assign the remaining shifts to the nurses (two choices on each day). So the total number of possible assignments is 108·6·8 = 5184."
   ]
  },
  {
   "cell_type": "code",
   "execution_count": 15,
   "id": "6fcab708",
   "metadata": {},
   "outputs": [
    {
     "name": "stdout",
     "output_type": "stream",
     "text": [
      "Solution 1\n",
      "Day 0\n",
      "  Nurse 0 does not work\n",
      "  Nurse 1 works shift 0\n",
      "  Nurse 2 works shift 1\n",
      "  Nurse 3 works shift 2\n",
      "Day 1\n",
      "  Nurse 0 works shift 2\n",
      "  Nurse 1 does not work\n",
      "  Nurse 2 works shift 1\n",
      "  Nurse 3 works shift 0\n",
      "Day 2\n",
      "  Nurse 0 works shift 2\n",
      "  Nurse 1 works shift 1\n",
      "  Nurse 2 works shift 0\n",
      "  Nurse 3 does not work\n",
      "Solution 2\n",
      "Day 0\n",
      "  Nurse 0 works shift 0\n",
      "  Nurse 1 does not work\n",
      "  Nurse 2 works shift 1\n",
      "  Nurse 3 works shift 2\n",
      "Day 1\n",
      "  Nurse 0 does not work\n",
      "  Nurse 1 works shift 2\n",
      "  Nurse 2 works shift 1\n",
      "  Nurse 3 works shift 0\n",
      "Day 2\n",
      "  Nurse 0 works shift 2\n",
      "  Nurse 1 works shift 1\n",
      "  Nurse 2 works shift 0\n",
      "  Nurse 3 does not work\n",
      "Solution 3\n",
      "Day 0\n",
      "  Nurse 0 works shift 0\n",
      "  Nurse 1 does not work\n",
      "  Nurse 2 works shift 1\n",
      "  Nurse 3 works shift 2\n",
      "Day 1\n",
      "  Nurse 0 works shift 1\n",
      "  Nurse 1 works shift 2\n",
      "  Nurse 2 does not work\n",
      "  Nurse 3 works shift 0\n",
      "Day 2\n",
      "  Nurse 0 works shift 2\n",
      "  Nurse 1 works shift 1\n",
      "  Nurse 2 works shift 0\n",
      "  Nurse 3 does not work\n",
      "Solution 4\n",
      "Day 0\n",
      "  Nurse 0 works shift 0\n",
      "  Nurse 1 does not work\n",
      "  Nurse 2 works shift 1\n",
      "  Nurse 3 works shift 2\n",
      "Day 1\n",
      "  Nurse 0 works shift 2\n",
      "  Nurse 1 works shift 1\n",
      "  Nurse 2 does not work\n",
      "  Nurse 3 works shift 0\n",
      "Day 2\n",
      "  Nurse 0 works shift 2\n",
      "  Nurse 1 works shift 1\n",
      "  Nurse 2 works shift 0\n",
      "  Nurse 3 does not work\n",
      "Solution 5\n",
      "Day 0\n",
      "  Nurse 0 does not work\n",
      "  Nurse 1 works shift 0\n",
      "  Nurse 2 works shift 1\n",
      "  Nurse 3 works shift 2\n",
      "Day 1\n",
      "  Nurse 0 works shift 2\n",
      "  Nurse 1 works shift 1\n",
      "  Nurse 2 does not work\n",
      "  Nurse 3 works shift 0\n",
      "Day 2\n",
      "  Nurse 0 works shift 2\n",
      "  Nurse 1 works shift 1\n",
      "  Nurse 2 works shift 0\n",
      "  Nurse 3 does not work\n",
      "Stop search after 5 solutions\n",
      "\n",
      "Statistics\n",
      "  - conflicts      : 5\n",
      "  - branches       : 142\n",
      "  - wall time      : 0.0023722 s\n",
      "  - solutions found: 5\n"
     ]
    }
   ],
   "source": [
    "\"\"\"Example of a simple nurse scheduling problem.\"\"\"\n",
    "from ortools.sat.python import cp_model\n",
    "\n",
    "\n",
    "def main():\n",
    "    # Data.\n",
    "    num_nurses = 4\n",
    "    num_shifts = 3\n",
    "    num_days = 3\n",
    "    all_nurses = range(num_nurses)\n",
    "    all_shifts = range(num_shifts)\n",
    "    all_days = range(num_days)\n",
    "\n",
    "    # Creates the model.\n",
    "    model = cp_model.CpModel()\n",
    "\n",
    "    # Creates shift variables.\n",
    "    # shifts[(n, d, s)]: nurse 'n' works shift 's' on day 'd'.\n",
    "    shifts = {}\n",
    "    for n in all_nurses:\n",
    "        for d in all_days:\n",
    "            for s in all_shifts:\n",
    "                shifts[(n, d, s)] = model.NewBoolVar(f\"shift_n{n}_d{d}_s{s}\")\n",
    "\n",
    "    # Each shift is assigned to exactly one nurse in the schedule period.\n",
    "    for d in all_days:\n",
    "        for s in all_shifts:\n",
    "            model.AddExactlyOne(shifts[(n, d, s)] for n in all_nurses)\n",
    "\n",
    "    # Each nurse works at most one shift per day.\n",
    "    for n in all_nurses:\n",
    "        for d in all_days:\n",
    "            model.AddAtMostOne(shifts[(n, d, s)] for s in all_shifts)\n",
    "\n",
    "    # Try to distribute the shifts evenly, so that each nurse works\n",
    "    # min_shifts_per_nurse shifts. If this is not possible, because the total\n",
    "    # number of shifts is not divisible by the number of nurses, some nurses will\n",
    "    # be assigned one more shift.\n",
    "    min_shifts_per_nurse = (num_shifts * num_days) // num_nurses\n",
    "    if num_shifts * num_days % num_nurses == 0:\n",
    "        max_shifts_per_nurse = min_shifts_per_nurse\n",
    "    else:\n",
    "        max_shifts_per_nurse = min_shifts_per_nurse + 1\n",
    "    for n in all_nurses:\n",
    "        shifts_worked = []\n",
    "        for d in all_days:\n",
    "            for s in all_shifts:\n",
    "                shifts_worked.append(shifts[(n, d, s)])\n",
    "        model.Add(min_shifts_per_nurse <= sum(shifts_worked))\n",
    "        model.Add(sum(shifts_worked) <= max_shifts_per_nurse)\n",
    "\n",
    "    # Creates the solver and solve.\n",
    "    solver = cp_model.CpSolver()\n",
    "    solver.parameters.linearization_level = 0\n",
    "    # Enumerate all solutions.\n",
    "    solver.parameters.enumerate_all_solutions = True\n",
    "\n",
    "    class NursesPartialSolutionPrinter(cp_model.CpSolverSolutionCallback):\n",
    "        \"\"\"Print intermediate solutions.\"\"\"\n",
    "\n",
    "        def __init__(self, shifts, num_nurses, num_days, num_shifts, limit):\n",
    "            cp_model.CpSolverSolutionCallback.__init__(self)\n",
    "            self._shifts = shifts\n",
    "            self._num_nurses = num_nurses\n",
    "            self._num_days = num_days\n",
    "            self._num_shifts = num_shifts\n",
    "            self._solution_count = 0\n",
    "            self._solution_limit = limit\n",
    "\n",
    "        def on_solution_callback(self):\n",
    "            self._solution_count += 1\n",
    "            print(f\"Solution {self._solution_count}\")\n",
    "            for d in range(self._num_days):\n",
    "                print(f\"Day {d}\")\n",
    "                for n in range(self._num_nurses):\n",
    "                    is_working = False\n",
    "                    for s in range(self._num_shifts):\n",
    "                        if self.Value(self._shifts[(n, d, s)]):\n",
    "                            is_working = True\n",
    "                            print(f\"  Nurse {n} works shift {s}\")\n",
    "                    if not is_working:\n",
    "                        print(f\"  Nurse {n} does not work\")\n",
    "            if self._solution_count >= self._solution_limit:\n",
    "                print(f\"Stop search after {self._solution_limit} solutions\")\n",
    "                self.StopSearch()\n",
    "\n",
    "        def solution_count(self):\n",
    "            return self._solution_count\n",
    "\n",
    "    # Display the first five solutions.\n",
    "    solution_limit = 5\n",
    "    solution_printer = NursesPartialSolutionPrinter(\n",
    "        shifts, num_nurses, num_days, num_shifts, solution_limit\n",
    "    )\n",
    "\n",
    "    solver.Solve(model, solution_printer)\n",
    "\n",
    "    # Statistics.\n",
    "    print(\"\\nStatistics\")\n",
    "    print(f\"  - conflicts      : {solver.NumConflicts()}\")\n",
    "    print(f\"  - branches       : {solver.NumBranches()}\")\n",
    "    print(f\"  - wall time      : {solver.WallTime()} s\")\n",
    "    print(f\"  - solutions found: {solution_printer.solution_count()}\")\n",
    "\n",
    "\n",
    "if __name__ == \"__main__\":\n",
    "    main()"
   ]
  }
 ],
 "metadata": {
  "kernelspec": {
   "display_name": "Python 3 (ipykernel)",
   "language": "python",
   "name": "python3"
  },
  "language_info": {
   "codemirror_mode": {
    "name": "ipython",
    "version": 3
   },
   "file_extension": ".py",
   "mimetype": "text/x-python",
   "name": "python",
   "nbconvert_exporter": "python",
   "pygments_lexer": "ipython3",
   "version": "3.11.4"
  },
  "varInspector": {
   "cols": {
    "lenName": 16,
    "lenType": 16,
    "lenVar": 40
   },
   "kernels_config": {
    "python": {
     "delete_cmd_postfix": "",
     "delete_cmd_prefix": "del ",
     "library": "var_list.py",
     "varRefreshCmd": "print(var_dic_list())"
    },
    "r": {
     "delete_cmd_postfix": ") ",
     "delete_cmd_prefix": "rm(",
     "library": "var_list.r",
     "varRefreshCmd": "cat(var_dic_list()) "
    }
   },
   "types_to_exclude": [
    "module",
    "function",
    "builtin_function_or_method",
    "instance",
    "_Feature"
   ],
   "window_display": false
  }
 },
 "nbformat": 4,
 "nbformat_minor": 5
}
